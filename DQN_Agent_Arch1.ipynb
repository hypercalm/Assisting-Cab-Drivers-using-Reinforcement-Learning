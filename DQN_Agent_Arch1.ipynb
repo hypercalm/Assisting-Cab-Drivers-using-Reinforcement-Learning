{
 "cells": [
  {
   "cell_type": "markdown",
   "metadata": {
    "id": "hkJYIU8xfCGl"
   },
   "source": [
    "## Reinforcement Learning - Assisting Cab Drivers\n",
    "### Cab-Driver Agent"
   ]
  },
  {
   "cell_type": "code",
   "execution_count": 1,
   "metadata": {
    "colab": {
     "base_uri": "https://localhost:8080/"
    },
    "executionInfo": {
     "elapsed": 20892,
     "status": "ok",
     "timestamp": 1656502674884,
     "user": {
      "displayName": "gp dube",
      "userId": "17556760577622787473"
     },
     "user_tz": -330
    },
    "id": "LNC4gs9zfZTf",
    "outputId": "c2e46199-c7a2-489f-c06c-7bf79b04deef"
   },
   "outputs": [
    {
     "name": "stdout",
     "output_type": "stream",
     "text": [
      "Mounted at /content/gdrive\n"
     ]
    }
   ],
   "source": [
    "## If you are using the data by mounting the google drive, use the following :\n",
    "from google.colab import drive\n",
    "drive.mount('/content/gdrive')"
   ]
  },
  {
   "cell_type": "code",
   "execution_count": 2,
   "metadata": {
    "colab": {
     "base_uri": "https://localhost:8080/"
    },
    "executionInfo": {
     "elapsed": 30,
     "status": "ok",
     "timestamp": 1656502674887,
     "user": {
      "displayName": "gp dube",
      "userId": "17556760577622787473"
     },
     "user_tz": -330
    },
    "id": "GmyOCqKEfco0",
    "outputId": "56013827-7c4a-4392-bc1e-96324d2924a3"
   },
   "outputs": [
    {
     "name": "stdout",
     "output_type": "stream",
     "text": [
      "/content/gdrive/MyDrive/Colab Notebooks/RL-Assisting_Cab_Drivers\n"
     ]
    }
   ],
   "source": [
    "import sys\n",
    "sys.path.insert(0,'/content/gdrive/MyDrive/Colab Notebooks/RL-Assisting_Cab_Drivers')\n",
    "%cd /content/gdrive/MyDrive/Colab Notebooks/RL-Assisting_Cab_Drivers"
   ]
  },
  {
   "cell_type": "code",
   "execution_count": 3,
   "metadata": {
    "executionInfo": {
     "elapsed": 3349,
     "status": "ok",
     "timestamp": 1656502678220,
     "user": {
      "displayName": "gp dube",
      "userId": "17556760577622787473"
     },
     "user_tz": -330
    },
    "id": "3ysr-r8sfCGt"
   },
   "outputs": [],
   "source": [
    "# Importing the libraries\n",
    "import numpy as np\n",
    "import random\n",
    "import math\n",
    "from collections import deque\n",
    "import collections\n",
    "import pickle\n",
    "\n",
    "# Constructing DQN model\n",
    "from keras import layers\n",
    "from keras import Sequential\n",
    "from keras.layers import Dense, Activation, Flatten\n",
    "from keras.optimizer_v2.adam import Adam\n",
    "\n",
    "# Graphing\n",
    "import matplotlib.pyplot as plt\n",
    "\n",
    "# Environment\n",
    "from Env import CabDriver"
   ]
  },
  {
   "cell_type": "code",
   "execution_count": 4,
   "metadata": {
    "executionInfo": {
     "elapsed": 17,
     "status": "ok",
     "timestamp": 1656502678221,
     "user": {
      "displayName": "gp dube",
      "userId": "17556760577622787473"
     },
     "user_tz": -330
    },
    "id": "FnFZbQtsfCGz"
   },
   "outputs": [],
   "source": [
    "env = CabDriver()"
   ]
  },
  {
   "cell_type": "markdown",
   "metadata": {
    "id": "cmftR5dbfCG2"
   },
   "source": [
    "#### Defining Time Matrix"
   ]
  },
  {
   "cell_type": "code",
   "execution_count": 5,
   "metadata": {
    "executionInfo": {
     "elapsed": 915,
     "status": "ok",
     "timestamp": 1656502679123,
     "user": {
      "displayName": "gp dube",
      "userId": "17556760577622787473"
     },
     "user_tz": -330
    },
    "id": "HfhGXdBifCG4"
   },
   "outputs": [],
   "source": [
    "# Loading the time matrix provided\n",
    "Time_matrix = np.load(\"TM.npy\")"
   ]
  },
  {
   "cell_type": "code",
   "execution_count": 6,
   "metadata": {
    "colab": {
     "base_uri": "https://localhost:8080/"
    },
    "executionInfo": {
     "elapsed": 29,
     "status": "ok",
     "timestamp": 1656502679124,
     "user": {
      "displayName": "gp dube",
      "userId": "17556760577622787473"
     },
     "user_tz": -330
    },
    "id": "SGQ4WF-zznkw",
    "outputId": "897ae12b-a067-471a-f6af-a59a55ca68ce"
   },
   "outputs": [
    {
     "name": "stdout",
     "output_type": "stream",
     "text": [
      "11.0\n",
      "0.0\n",
      "3.0542857142857143\n",
      "7.93705306122449\n"
     ]
    }
   ],
   "source": [
    "print(Time_matrix.max())\n",
    "print(Time_matrix.min())\n",
    "print(Time_matrix.mean())\n",
    "print(Time_matrix.var())"
   ]
  },
  {
   "cell_type": "markdown",
   "metadata": {
    "id": "VnB_xHLwz71R"
   },
   "source": [
    "Since the max time is 11 hours between any 2 points, the next state of the cab driver may increase at most by 1 day."
   ]
  },
  {
   "cell_type": "markdown",
   "metadata": {
    "id": "2YVQvIILfCG7"
   },
   "source": [
    "#### Tracking the state-action pairs for checking convergence\n"
   ]
  },
  {
   "cell_type": "code",
   "execution_count": 7,
   "metadata": {
    "executionInfo": {
     "elapsed": 22,
     "status": "ok",
     "timestamp": 1656502679125,
     "user": {
      "displayName": "gp dube",
      "userId": "17556760577622787473"
     },
     "user_tz": -330
    },
    "id": "AeaT_STmfCG9"
   },
   "outputs": [],
   "source": [
    "def encode_track_state(state):\n",
    "    return ('-'.join(str(e) for e in state))"
   ]
  },
  {
   "cell_type": "code",
   "execution_count": 8,
   "metadata": {
    "executionInfo": {
     "elapsed": 22,
     "status": "ok",
     "timestamp": 1656502679127,
     "user": {
      "displayName": "gp dube",
      "userId": "17556760577622787473"
     },
     "user_tz": -330
    },
    "id": "9ezNEK0tfCG_"
   },
   "outputs": [],
   "source": [
    "def encode_track_action(action):\n",
    "    return ('-'.join(str(e) for e in action))"
   ]
  },
  {
   "cell_type": "code",
   "execution_count": 9,
   "metadata": {
    "executionInfo": {
     "elapsed": 22,
     "status": "ok",
     "timestamp": 1656502679128,
     "user": {
      "displayName": "gp dube",
      "userId": "17556760577622787473"
     },
     "user_tz": -330
    },
    "id": "D32KzQngfCHA"
   },
   "outputs": [],
   "source": [
    "# Tracking the q-vals for all possible moves from position 3 at beginning of the episode\n",
    "def initialise_tracking_states(episodes):\n",
    "    sample_q_values = [('3-0-0', '1-2'), ('3-0-0', '2-1'), ('3-0-0', '1-3'), ('3-0-0', '3-1'), ('3-0-0', '1-4'), ('3-0-0', '4-1'), ('3-0-0', '1-5'), ('3-0-0', '5-1'), ('3-0-0', '2-3'), \n",
    "                       ('3-0-0', '3-2'), ('3-0-0', '2-4'), ('3-0-0', '4-2'), ('3-0-0', '2-5'), ('3-0-0', '5-2'), ('3-0-0', '3-4'), ('3-0-0', '4-3'), ('3-0-0', '3-5'), ('3-0-0', '5-3'), \n",
    "                       ('3-0-0', '4-5'), ('3-0-0', '5-4'), ('3-0-0', '0-0')]    \n",
    "    for q_value in sample_q_values:\n",
    "        state = q_value[0]\n",
    "        action = q_value[1]\n",
    "        States_track[state][action] = []\n",
    "\n",
    "         "
   ]
  },
  {
   "cell_type": "code",
   "execution_count": 10,
   "metadata": {
    "executionInfo": {
     "elapsed": 22,
     "status": "ok",
     "timestamp": 1656502679129,
     "user": {
      "displayName": "gp dube",
      "userId": "17556760577622787473"
     },
     "user_tz": -330
    },
    "id": "hli_VY72fCHD"
   },
   "outputs": [],
   "source": [
    "# Save q-value for tracking a state-action pair\n",
    "def save_tracking_states(curr_state, curr_action, curr_q_value):\n",
    "    for state in States_track.keys():\n",
    "        if state == curr_state:\n",
    "            for action in States_track[state].keys():\n",
    "                if action == curr_action:\n",
    "                    States_track[state][action].append(curr_q_value)"
   ]
  },
  {
   "cell_type": "code",
   "execution_count": 11,
   "metadata": {
    "executionInfo": {
     "elapsed": 22,
     "status": "ok",
     "timestamp": 1656502679130,
     "user": {
      "displayName": "gp dube",
      "userId": "17556760577622787473"
     },
     "user_tz": -330
    },
    "id": "WEiHoZAlfCHE"
   },
   "outputs": [],
   "source": [
    "# Pickling the q-dictionary\n",
    "def save_obj(obj, name ):\n",
    "    with open(name + '.pkl', 'wb') as f:\n",
    "        pickle.dump(obj, f, pickle.HIGHEST_PROTOCOL)"
   ]
  },
  {
   "cell_type": "markdown",
   "metadata": {
    "id": "ND4UOkccfCHH"
   },
   "source": [
    "### Agent Class\n",
    "- If the memory size is greater than mini-batch size, you randomly sample experiences from memory as per the mini-batch size and do the following:\n",
    "- Initialise your input and output batch for training the model\n",
    "- Calculate the target Q value for each sample: reward + gamma*max(Q(s'a,))\n",
    "- Get Q(s', a) values from the last trained model\n",
    "- Update the input batch as your encoded state and output batch as your Q-values\n",
    "- Then fit your DQN model using the updated input and output batch."
   ]
  },
  {
   "cell_type": "code",
   "execution_count": 12,
   "metadata": {
    "executionInfo": {
     "elapsed": 23,
     "status": "ok",
     "timestamp": 1656502679132,
     "user": {
      "displayName": "gp dube",
      "userId": "17556760577622787473"
     },
     "user_tz": -330
    },
    "id": "s5zUHf7ffCHI"
   },
   "outputs": [],
   "source": [
    "class DQNAgent:\n",
    "    def __init__(self, state_size, action_size):\n",
    "        # Defining the size of state & action\n",
    "        self.state_size = state_size\n",
    "        self.action_size = action_size\n",
    "\n",
    "        # Specifying the hyper-parameters for the DQN\n",
    "        # We are using an epsilon-decay function epsilon = epsilon*epsilon_decay which has also been described at the end\n",
    "        self.discount_factor = 0.95\n",
    "        self.learning_rate =  0.001      \n",
    "        self.epsilon = 1.0\n",
    "        self.epsilon_decay = 0.999\n",
    "        self.epsilon_min = 0.01\n",
    "        \n",
    "        self.batch_size = 32  \n",
    "        self.train_start = 50\n",
    "        # Make a memory replay with deque\n",
    "        self.memory = deque(maxlen=2000)\n",
    "\n",
    "       # Construct main and target models\n",
    "        self.model = self.build_model()\n",
    "        print (\"\\n Target Neural Model: \")\n",
    "        self.target_model = self.build_model()\n",
    "\n",
    "        \n",
    "            \n",
    "    # Approximating q-function using a neural network\n",
    "    def build_model(self):\n",
    "        model = Sequential()\n",
    "        # Write your code here: Add layers to your neural nets       \n",
    "        # input layer - input size would be state size\n",
    "        model.add(Dense(32, input_dim=self.state_size, activation='relu', kernel_initializer='he_uniform'))\n",
    "        model.add(Dense(32, activation='relu', kernel_initializer='he_uniform'))\n",
    "        model.add(Dense(32, activation='relu', kernel_initializer='he_uniform'))\n",
    "        model.add(Dense(32, activation='relu', kernel_initializer='he_uniform'))\n",
    "        # the output layer: output size is number of possible actions\n",
    "        model.add(Dense(self.action_size, activation='relu', kernel_initializer='he_uniform'))\n",
    "        model.compile(loss='mse',optimizer=Adam(lr=self.learning_rate))\n",
    "        model.summary\n",
    "        return model\n",
    "\n",
    "    def update_target_model(self):\n",
    "        # Updating the target Q-value network to current Q-value network after training for a episode. \n",
    "        # Parameters of the target Q-value network will be set as current Q-value network.\n",
    "        self.target_model.set_weights(self.model.get_weights())\n",
    "\n",
    "\n",
    "    def get_action(self, state, possible_actions):      \n",
    "        if np.random.rand() <= self.epsilon:\n",
    "            # Explore: Pick a random action from all allowed actions\n",
    "            # The list of allowed actions is provided by the environment.\n",
    "            choice = random.choice(possible_actions)\n",
    "        else:\n",
    "            # Pick an action which yields maximum q(s, a)\n",
    "            q_values = self.model.predict(state)\n",
    "            possible_action_q_values = list(q_values[0][index] for index in possible_actions)\n",
    "            max_q_value = np.max(possible_action_q_values)\n",
    "            choice = np.where(q_values[0] == max_q_value)\n",
    "            choice = choice[0][0]\n",
    "            \n",
    "        return choice\n",
    "        \n",
    "    def get_q_values(self, state):\n",
    "        return self.model.predict(state)[0]\n",
    "    \n",
    "    def append_sample(self, state, action, reward, next_state, done):\n",
    "        # Add (s, a, r, s', done) tuple to replay buffer after each action\n",
    "        self.memory.append((state, action, reward, next_state, done))\n",
    "    \n",
    "        # Decay in ε (epsilon) after generating each sample from the environment\n",
    "        if self.epsilon > self.epsilon_min:\n",
    "            self.epsilon *= self.epsilon_decay    \n",
    "    \n",
    "    def train_model(self):\n",
    "        # Wait for memory queue to reach threshold before training the model\n",
    "        if len(self.memory) < self.train_start:\n",
    "            return\n",
    "        \n",
    "        # Sample batch from the memory\n",
    "        batch_size = min(self.batch_size, len(self.memory))\n",
    "        # Select samples randomly from replay memory to train the network\n",
    "        mini_batch = random.sample(self.memory, self.batch_size)\n",
    "\n",
    "        # Init the input and output batches for training the model\n",
    "        update_input = np.zeros((self.batch_size, self.state_size))\n",
    "        update_target = np.zeros((self.batch_size, self.state_size)) \n",
    "        actions, rewards, terminal_states = [], [], []\n",
    "\n",
    "        for i in range(self.batch_size):\n",
    "\n",
    "            update_input[i] = mini_batch[i][0]\n",
    "            actions.append(mini_batch[i][1])\n",
    "            rewards.append(mini_batch[i][2])\n",
    "            update_target[i] = mini_batch[i][3]\n",
    "            terminal_states.append(mini_batch[i][4])\n",
    "\n",
    "        # Predicting target from earlier model\n",
    "        target = self.model.predict(update_input)\n",
    "\n",
    "        # Obtaining the target for the Q-network\n",
    "        target_qval = self.target_model.predict(update_target)  \n",
    "\n",
    "        for i in range(self.batch_size):\n",
    "            if terminal_states[i]:\n",
    "                target[i][actions[i]] = rewards[i]\n",
    "            else: # nonterminal state\n",
    "                target[i][actions[i]] = rewards[i] + self.discount_factor * np.max(target_qval[i])\n",
    "\n",
    "        # Fit the model and track the losses\n",
    "        self.model.fit(update_input, target, batch_size=self.batch_size, epochs=1, verbose=0)\n",
    "    \n",
    "    def save(self, name):\n",
    "        self.model.save_weights(name)\n",
    "        \n",
    "    def get_model_weights(self):\n",
    "        return self.model.get_weights()"
   ]
  },
  {
   "cell_type": "code",
   "execution_count": 13,
   "metadata": {
    "executionInfo": {
     "elapsed": 22,
     "status": "ok",
     "timestamp": 1656502679133,
     "user": {
      "displayName": "gp dube",
      "userId": "17556760577622787473"
     },
     "user_tz": -330
    },
    "id": "DemGVtzpfCHL"
   },
   "outputs": [],
   "source": [
    "Episodes = 1000"
   ]
  },
  {
   "cell_type": "markdown",
   "metadata": {
    "id": "B8yC96-JfCHM"
   },
   "source": [
    "### DQN block"
   ]
  },
  {
   "cell_type": "code",
   "execution_count": 14,
   "metadata": {
    "colab": {
     "base_uri": "https://localhost:8080/",
     "height": 515
    },
    "executionInfo": {
     "elapsed": 14527327,
     "status": "ok",
     "timestamp": 1656517206439,
     "user": {
      "displayName": "gp dube",
      "userId": "17556760577622787473"
     },
     "user_tz": -330
    },
    "id": "up_814ZafCHN",
    "outputId": "e22a5560-fa3d-4d7a-fbb4-7ca3940417f8"
   },
   "outputs": [
    {
     "name": "stderr",
     "output_type": "stream",
     "text": [
      "/usr/local/lib/python3.7/dist-packages/keras/optimizer_v2/adam.py:105: UserWarning: The `lr` argument is deprecated, use `learning_rate` instead.\n",
      "  super(Adam, self).__init__(name, **kwargs)\n"
     ]
    },
    {
     "name": "stdout",
     "output_type": "stream",
     "text": [
      "\n",
      " Target Neural Model: \n",
      "Episode: 100   score: 1108   memory length: 2000   epsilon: 0.009998671593271896\n",
      "Episode: 200   score: 1241   memory length: 2000   epsilon: 0.009998671593271896\n",
      "Episode: 300   score: 1229   memory length: 2000   epsilon: 0.009998671593271896\n",
      "Episode: 400   score: 1371   memory length: 2000   epsilon: 0.009998671593271896\n",
      "Episode: 500   score: 1471   memory length: 2000   epsilon: 0.009998671593271896\n",
      "Episode: 600   score: 1435   memory length: 2000   epsilon: 0.009998671593271896\n",
      "Episode: 700   score: 1579   memory length: 2000   epsilon: 0.009998671593271896\n",
      "Episode: 800   score: 1440   memory length: 2000   epsilon: 0.009998671593271896\n",
      "Episode: 900   score: 1727   memory length: 2000   epsilon: 0.009998671593271896\n",
      "Episode: 1000   score: 1528   memory length: 2000   epsilon: 0.009998671593271896\n"
     ]
    },
    {
     "data": {
      "image/png": "[encoded data removed]",
      "text/plain": [
       "<Figure size 432x288 with 1 Axes>"
      ]
     },
     "metadata": {
      "needs_background": "light"
     },
     "output_type": "display_data"
    }
   ],
   "source": [
    "import pylab\n",
    "scores, episodes = [], []\n",
    "state = env.state_init\n",
    "state_encoded = env.state_encod_arch1(state)\n",
    "state_size = len(state_encoded)\n",
    "action_size = len(env.action_space)\n",
    "agent = DQNAgent(state_size, action_size)\n",
    "States_track = collections.defaultdict(dict)\n",
    "initialise_tracking_states(Episodes) \n",
    "\n",
    "for episode in range(Episodes):\n",
    "\n",
    "    # Write code here\n",
    "    # Call the environment\n",
    "    # Call all the initialised variables of the environment\n",
    "    terminal_state = False\n",
    "    score = 0\n",
    "    reward = 0\n",
    "    total_days = 1\n",
    "    previous_day = 0\n",
    "    current_day = 0\n",
    "    env.reset()\n",
    "    \n",
    "\n",
    "    #Call the DQN agent\n",
    "    action_space, state_space, state = env.reset()\n",
    "    track_state = state\n",
    "    \n",
    "    \n",
    "    while not terminal_state:\n",
    "        \n",
    "        # Write your code here\n",
    "        # 1. Pick epsilon-greedy action from possible actions for the current state\n",
    "        # 2. Evaluate your reward and next state\n",
    "        # 3. Append the experience to the memory\n",
    "        # 4. Train the model by calling function agent.train_model\n",
    "        # 5. Keep a track of rewards, Q-values, loss\n",
    "        \n",
    "        state_encoded = env.state_encod_arch1(state)\n",
    "        state_encoded = np.reshape(state_encoded, [1, state_size])\n",
    "        \n",
    "        # Obtain the allowed list of actions from the environment\n",
    "        possible_actions, action_list = env.requests(state)\n",
    "        \n",
    "        # Pick epsilon-greedy action from all allowed actions for the current state\n",
    "        action = agent.get_action(state_encoded, possible_actions)\n",
    "        \n",
    "        # Evaluate your reward and next state\n",
    "        reward = env.reward_func(state, env.action_space[action], Time_matrix)\n",
    "        next_state = env.next_state_func(state, env.action_space[action], Time_matrix)\n",
    "        next_state_encoded = env.state_encod_arch1(next_state)\n",
    "        next_state_encoded = np.reshape(next_state_encoded, [1, state_size])\n",
    "        \n",
    "        # Append the experience to the memory\n",
    "        agent.append_sample(state_encoded, action, reward, next_state_encoded, terminal_state)\n",
    "        \n",
    "        # Train the model by calling the agent.train_model function\n",
    "        agent.train_model()\n",
    "        \n",
    "        # Reward tracking\n",
    "        score += reward\n",
    "        previous_day = state[2]\n",
    "        state = next_state\n",
    "        current_day = state[2]\n",
    "        if previous_day != current_day:\n",
    "            total_days = total_days + 1\n",
    "            \n",
    "        if total_days > 30:\n",
    "            terminal_state = True\n",
    "            \n",
    "        # At the end of 30 days, the target model is updated. Also the scores and episode are saved\n",
    "        if terminal_state == True:\n",
    "            agent.update_target_model()\n",
    "            scores.append(score)\n",
    "            episodes.append(episode)  \n",
    "    \n",
    "    # Track q-value convergence\n",
    "    # After each episode the q-values will be predicted for all possible actions from the init state\n",
    "    track_state_encode = encode_track_state(track_state)\n",
    "    track_state_encoded = env.state_encod_arch1(track_state)\n",
    "    track_state_encoded = np.reshape(track_state_encoded, [1, state_size])\n",
    "    track_q_values = agent.get_q_values(track_state_encoded)\n",
    "    \n",
    "    for index in range(len(env.action_space)):\n",
    "        track_action_encode = encode_track_action(env.action_space[index])\n",
    "        save_tracking_states(track_state_encode, track_action_encode, track_q_values[index])\n",
    "    \n",
    "    # Save the graph as a PNG and the model as a pickle file\n",
    "    # Saving after every n-th episode (n=100 here)\n",
    "    if (episode + 1) % 100 == 0:\n",
    "        print(\"Episode:\", episode + 1, \"  score:\", score, \"  memory length:\", len(agent.memory), \"  epsilon:\", agent.epsilon)\n",
    "        pylab.plot(episodes, scores)\n",
    "        pylab.savefig(\"cardriver_dqn_\" + str(score) + \".png\")\n",
    "        save_obj(agent.get_model_weights(), \"cardriver_dqn_\" + str(score))\n",
    "       "
   ]
  },
  {
   "cell_type": "markdown",
   "metadata": {
    "id": "ex_fPerFfCHR"
   },
   "source": [
    "### Tracking Convergence"
   ]
  },
  {
   "cell_type": "code",
   "execution_count": 15,
   "metadata": {
    "colab": {
     "base_uri": "https://localhost:8080/",
     "height": 297
    },
    "executionInfo": {
     "elapsed": 80,
     "status": "ok",
     "timestamp": 1656517206459,
     "user": {
      "displayName": "gp dube",
      "userId": "17556760577622787473"
     },
     "user_tz": -330
    },
    "id": "ejaBByvdfCHR",
    "outputId": "3a093091-531b-4ef8-8418-45e93cf8ae38"
   },
   "outputs": [
    {
     "data": {
      "text/plain": [
       "[<matplotlib.lines.Line2D at 0x7ff2bef01a50>]"
      ]
     },
     "execution_count": 15,
     "metadata": {},
     "output_type": "execute_result"
    },
    {
     "data": {
      "image/png": "[encoded data removed]",
      "text/plain": [
       "<Figure size 432x288 with 1 Axes>"
      ]
     },
     "metadata": {
      "needs_background": "light"
     },
     "output_type": "display_data"
    }
   ],
   "source": [
    "\n",
    "# Checking convergence with scores\n",
    "plt.xlabel('Episodes')\n",
    "plt.ylabel('Score')\n",
    "plt.plot(episodes, scores)\n"
   ]
  },
  {
   "cell_type": "code",
   "execution_count": 16,
   "metadata": {
    "colab": {
     "base_uri": "https://localhost:8080/",
     "height": 283
    },
    "executionInfo": {
     "elapsed": 66,
     "status": "ok",
     "timestamp": 1656517206462,
     "user": {
      "displayName": "gp dube",
      "userId": "17556760577622787473"
     },
     "user_tz": -330
    },
    "id": "D7vEvJT3eKwC",
    "outputId": "da159e50-2b40-48df-da0a-7824bf0ac172"
   },
   "outputs": [
    {
     "data": {
      "text/plain": [
       "[<matplotlib.lines.Line2D at 0x7ff2c4d2cad0>]"
      ]
     },
     "execution_count": 16,
     "metadata": {},
     "output_type": "execute_result"
    },
    {
     "data": {
      "image/png": "[encoded data removed]",
      "text/plain": [
       "<Figure size 432x288 with 1 Axes>"
      ]
     },
     "metadata": {
      "needs_background": "light"
     },
     "output_type": "display_data"
    }
   ],
   "source": [
    "# State-action q-value graph\n",
    "values = States_track['3-0-0']['3-4']\n",
    "plt.ylabel('q-values')\n",
    "plt.plot(values)"
   ]
  },
  {
   "cell_type": "code",
   "execution_count": 22,
   "metadata": {
    "colab": {
     "base_uri": "https://localhost:8080/",
     "height": 283
    },
    "executionInfo": {
     "elapsed": 522,
     "status": "ok",
     "timestamp": 1656517539426,
     "user": {
      "displayName": "gp dube",
      "userId": "17556760577622787473"
     },
     "user_tz": -330
    },
    "id": "IyfoXhZOfCHT",
    "outputId": "eba9cead-6889-4359-f715-3b82a2ebf4c6"
   },
   "outputs": [
    {
     "data": {
      "text/plain": [
       "[<matplotlib.lines.Line2D at 0x7ff2bf77b4d0>]"
      ]
     },
     "execution_count": 22,
     "metadata": {},
     "output_type": "execute_result"
    },
    {
     "data": {
      "image/png": "[encoded data removed]",
      "text/plain": [
       "<Figure size 432x288 with 1 Axes>"
      ]
     },
     "metadata": {
      "needs_background": "light"
     },
     "output_type": "display_data"
    }
   ],
   "source": [
    "# State-action q-value graph\n",
    "values = States_track['3-0-0']['3-2']\n",
    "plt.ylabel('q-values')\n",
    "plt.plot(values)"
   ]
  },
  {
   "cell_type": "markdown",
   "metadata": {
    "id": "mhZg1s8SfCHU"
   },
   "source": [
    "#### Epsilon-decay sample function"
   ]
  },
  {
   "cell_type": "markdown",
   "metadata": {
    "id": "YzF2uySUfCHV"
   },
   "source": [
    "<div class=\"alert alert-block alert-info\">\n",
    "Try building a similar epsilon-decay function for your model.\n",
    "</div>"
   ]
  },
  {
   "cell_type": "code",
   "execution_count": 23,
   "metadata": {
    "executionInfo": {
     "elapsed": 713,
     "status": "ok",
     "timestamp": 1656517662600,
     "user": {
      "displayName": "gp dube",
      "userId": "17556760577622787473"
     },
     "user_tz": -330
    },
    "id": "NgLHLG-rfCHV"
   },
   "outputs": [],
   "source": [
    "time = np.arange(0,10000)\n",
    "epsilon = []\n",
    "\n",
    "for i in range(0,10000):\n",
    "  \n",
    "    epsilon.append(0 + (1 - 0) * np.exp(-0.0009*i))"
   ]
  },
  {
   "cell_type": "code",
   "execution_count": 24,
   "metadata": {
    "colab": {
     "base_uri": "https://localhost:8080/",
     "height": 265
    },
    "executionInfo": {
     "elapsed": 470,
     "status": "ok",
     "timestamp": 1656517666339,
     "user": {
      "displayName": "gp dube",
      "userId": "17556760577622787473"
     },
     "user_tz": -330
    },
    "id": "UDKerwbqfCHW",
    "outputId": "385a70f0-ca69-44b2-c615-b991c1760b71"
   },
   "outputs": [
    {
     "data": {
      "image/png": "[encoded data removed]",
      "text/plain": [
       "<Figure size 432x288 with 1 Axes>"
      ]
     },
     "metadata": {
      "needs_background": "light"
     },
     "output_type": "display_data"
    }
   ],
   "source": [
    "plt.plot(time, epsilon)\n",
    "plt.show()"
   ]
  },
  {
   "cell_type": "markdown",
   "metadata": {
    "id": "q1B96u8WtN9B"
   },
   "source": [
    "#### Epsilon-decay function used in this model\n",
    "##### Notice that it has a very similar trend as the above function"
   ]
  },
  {
   "cell_type": "code",
   "execution_count": 25,
   "metadata": {
    "executionInfo": {
     "elapsed": 15,
     "status": "ok",
     "timestamp": 1656517669383,
     "user": {
      "displayName": "gp dube",
      "userId": "17556760577622787473"
     },
     "user_tz": -330
    },
    "id": "yTphezepfCHW"
   },
   "outputs": [],
   "source": [
    "# Epsilon decay function used in this model\n",
    "time = np.arange(0,10000)\n",
    "epsilon = []\n",
    "epsilon_decay = .999\n",
    "epsilon.append(1.0)\n",
    "for i in range(1,10000):\n",
    "    epsilon.append(epsilon[i-1] * epsilon_decay)"
   ]
  },
  {
   "cell_type": "code",
   "execution_count": 26,
   "metadata": {
    "colab": {
     "base_uri": "https://localhost:8080/",
     "height": 265
    },
    "executionInfo": {
     "elapsed": 511,
     "status": "ok",
     "timestamp": 1656517672037,
     "user": {
      "displayName": "gp dube",
      "userId": "17556760577622787473"
     },
     "user_tz": -330
    },
    "id": "fcRr31Bb4dnL",
    "outputId": "35ecea6c-da3f-4d5b-8ab5-825c6da6f334"
   },
   "outputs": [
    {
     "data": {
      "image/png": "[encoded data removed]",
      "text/plain": [
       "<Figure size 432x288 with 1 Axes>"
      ]
     },
     "metadata": {
      "needs_background": "light"
     },
     "output_type": "display_data"
    }
   ],
   "source": [
    "plt.plot(time, epsilon)\n",
    "plt.show()"
   ]
  }
 ],
 "metadata": {
  "accelerator": "GPU",
  "colab": {
   "collapsed_sections": [],
   "name": "DQN_Agent_Arch1.ipynb",
   "provenance": []
  },
  "gpuClass": "standard",
  "kernelspec": {
   "display_name": "Python 3",
   "language": "python",
   "name": "python3"
  },
  "language_info": {
   "codemirror_mode": {
    "name": "ipython",
    "version": 3
   },
   "file_extension": ".py",
   "mimetype": "text/x-python",
   "name": "python",
   "nbconvert_exporter": "python",
   "pygments_lexer": "ipython3",
   "version": "3.8.8"
  }
 },
 "nbformat": 4,
 "nbformat_minor": 1
}
